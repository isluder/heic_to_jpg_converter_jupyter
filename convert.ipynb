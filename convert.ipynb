{
 "cells": [
  {
   "cell_type": "code",
   "execution_count": 3,
   "metadata": {},
   "outputs": [],
   "source": [
    "import pillow_heif\n",
    "from PIL import Image\n",
    "import os"
   ]
  },
  {
   "cell_type": "code",
   "execution_count": 15,
   "metadata": {},
   "outputs": [],
   "source": [
    "def convert_heic_to_jpg(heic_path, jpg_path):\n",
    "    # Read the HEIC file\n",
    "    heif_file = pillow_heif.open_heif(heic_path)\n",
    "\n",
    "    # Convert HEIC file to a PIL Image object\n",
    "    image = Image.frombytes(\n",
    "        heif_file.mode, \n",
    "        heif_file.size, \n",
    "        heif_file.data,\n",
    "        \"raw\",\n",
    "    )\n",
    "\n",
    "    # Save the image in JPG format\n",
    "    image.save(jpg_path, format=\"JPEG\")"
   ]
  },
  {
   "cell_type": "code",
   "execution_count": 17,
   "metadata": {},
   "outputs": [],
   "source": [
    "current_dir = os.getcwd()       #or add the path of the object\n",
    "\n",
    "for file in os.listdir(current_dir):\n",
    "    if file.endswith('.heic'):\n",
    "        convert_heic_to_jpg(file, f\"{file.rstrip('.heic')}.jpg\")"
   ]
  }
 ],
 "metadata": {
  "kernelspec": {
   "display_name": "Python 3",
   "language": "python",
   "name": "python3"
  },
  "language_info": {
   "codemirror_mode": {
    "name": "ipython",
    "version": 3
   },
   "file_extension": ".py",
   "mimetype": "text/x-python",
   "name": "python",
   "nbconvert_exporter": "python",
   "pygments_lexer": "ipython3",
   "version": "3.11.6"
  }
 },
 "nbformat": 4,
 "nbformat_minor": 2
}
